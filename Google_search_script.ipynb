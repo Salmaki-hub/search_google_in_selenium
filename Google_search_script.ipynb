{
 "cells": [
  {
   "cell_type": "code",
   "execution_count": 12,
   "id": "f40bd103",
   "metadata": {},
   "outputs": [],
   "source": [
    "#Importing Libraries\n",
    "import time\n",
    "from selenium import webdriver\n",
    "from selenium.webdriver.common.by import By\n",
    "from selenium.webdriver.support.ui import WebDriverWait\n",
    "from selenium.webdriver.support import expected_conditions as EC\n",
    "from selenium.webdriver.common.keys import Keys"
   ]
  },
  {
   "cell_type": "code",
   "execution_count": 14,
   "id": "1c617bc5",
   "metadata": {},
   "outputs": [
    {
     "name": "stderr",
     "output_type": "stream",
     "text": [
      "C:\\Users\\SALMAN\\AppData\\Local\\Temp/ipykernel_17044/3853113499.py:2: DeprecationWarning: executable_path has been deprecated, please pass in a Service object\n",
      "  browser = webdriver.Chrome(PATH)\n",
      "C:\\Users\\SALMAN\\AppData\\Local\\Temp/ipykernel_17044/3853113499.py:5: DeprecationWarning: find_element_by_* commands are deprecated. Please use find_element() instead\n",
      "  search = browser.find_element_by_name('q')\n"
     ]
    }
   ],
   "source": [
    "PATH = \"D:\\chromedriver.exe\"\n",
    "browser = webdriver.Chrome(PATH)\n",
    "browser.get('http://www.google.com')\n",
    "\n",
    "search = browser.find_element_by_name('q')\n",
    "search.send_keys(\"google search through python\")\n",
    "search.send_keys(Keys.RETURN) # hit return after you enter search text\n",
    "time.sleep(5) # sleep for 5 seconds so you can see the results\n",
    "browser.quit()"
   ]
  }
 ],
 "metadata": {
  "kernelspec": {
   "display_name": "Python 3 (ipykernel)",
   "language": "python",
   "name": "python3"
  },
  "language_info": {
   "codemirror_mode": {
    "name": "ipython",
    "version": 3
   },
   "file_extension": ".py",
   "mimetype": "text/x-python",
   "name": "python",
   "nbconvert_exporter": "python",
   "pygments_lexer": "ipython3",
   "version": "3.9.7"
  }
 },
 "nbformat": 4,
 "nbformat_minor": 5
}
